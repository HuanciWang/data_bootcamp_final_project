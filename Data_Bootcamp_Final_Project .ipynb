{
 "cells": [
  {
   "cell_type": "markdown",
   "metadata": {},
   "source": [
    "This project was completed by Huanci Wang here in partial fulfilment of ECON-UB.0232, Data Bootcamp, Spring 2019. I certify that the NYU Stern Honor Code applies to this project. In particular, I have: \n",
    "\n",
    "Clearly acknowledged the work and efforts of others when submitting written work as our own. The incorporation of the work of others–including but not limited to their ideas, data, creative expression, and direct quotations (which should be designated with quotation marks), or para- phrasing thereof– has been fully and appropriately referenced using notations both in the text and the bibliography. \n",
    "\n",
    "And I understand that: \n",
    "\n",
    "Submitting the same or substantially similar work in multiple courses, either in the same semester or in a different semester, without the express approval of all instructors is strictly forbidden. \n",
    "I acknowledge that a failure to abide by NYU Stern Honor Code will result in a failing grade for the project and course. \n",
    "\n",
    "Project Description:\n",
    "    The way to produce a successful movie is always a hot issue worldwide. If a movie is successful, people are always eager to figure out the reason why the movie succeeds, which may help the movie companies and studios to produce the next successful movies. This project will study the factors of making a successful movie. We will focus on two aspects: rating and gross revenue, which means that the movie has good feedback and high box-office. In the first part, we will discuss how the directors, actors, budget, and genres will influence the rating of the movies. And we will find out the factors that help movies receiving high-ratings. In the second part, we will first discuss the budget, which is a base of gross revenue. Then, we will figure out the factors of the high-grossing movies. Finally, we will explore the relationship between gross revenue and PPP, gross revenue and ROI."
   ]
  },
  {
   "cell_type": "markdown",
   "metadata": {},
   "source": [
    "# GitHub Link"
   ]
  },
  {
   "cell_type": "markdown",
   "metadata": {},
   "source": [
    "https://github.com/HuanciWang/data_bootcamp_final_project"
   ]
  }
 ],
 "metadata": {
  "kernelspec": {
   "display_name": "Python 3",
   "language": "python",
   "name": "python3"
  },
  "language_info": {
   "codemirror_mode": {
    "name": "ipython",
    "version": 3
   },
   "file_extension": ".py",
   "mimetype": "text/x-python",
   "name": "python",
   "nbconvert_exporter": "python",
   "pygments_lexer": "ipython3",
   "version": "3.6.5"
  }
 },
 "nbformat": 4,
 "nbformat_minor": 2
}
